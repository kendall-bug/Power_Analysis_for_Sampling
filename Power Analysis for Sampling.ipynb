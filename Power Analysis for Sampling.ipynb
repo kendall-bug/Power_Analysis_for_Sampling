{
 "cells": [
  {
   "cell_type": "markdown",
   "id": "43c50a2e",
   "metadata": {},
   "source": [
    "# Effect Size - Cohen's d:\n",
    "A metric that measures the size of the difference observed between samples.\n",
    "\n",
    "Most often, we will need to suggest the observed effect size in order to obtain the minimum sample size for that effect size to return a statistically significant result at a desired level of statistical power (https://peopleanalytics-regression-book.org/power-tests.html).\n",
    "\n",
    "\n",
    "### Rule of thumb for interpreting Cohen's d\n",
    "#### From: https://www.statisticshowto.com/probability-and-statistics/statistics-definitions/cohens-d/\n",
    "\n",
    "Use these general “rule of thumb” guidelines (which Cohen said should be used cautiously):\n",
    "\n",
    " - Small effect = 0.2\n",
    " - Medium Effect = 0.5\n",
    " - Large Effect = 0.8\n",
    " \n",
    "“Small” effects are difficult to see with the naked eye. For example, Cohen reported that the height difference \n",
    "between 15-year-old and 16-year-old girls in the US is about this effect size. “Medium” is probably big enough to \n",
    "be discerned with the naked eye, while effects that are “large” can definitely be seen with the naked eye \n",
    "(Cohen calls this “grossly perceptible and therefore large”). For example, the difference in heights between \n",
    "13-year-old and 18-year-old girls is 0.8. An effect under 0.2 can be considered trivial, even if your results \n",
    "are statistically significant.\n",
    "\n",
    "Bear in mind that a “large” effect isn’t necessarily better than a “small” effect, especially in settings where \n",
    "small differences can have a major impact. For example, an increase in academic scores or health grades by an effect \n",
    "size of just 0.1 can be very significant in the real world. Durlak (2009) suggests referring to prior research in \n",
    "order to get an idea of where your findings fit into the bigger context."
   ]
  },
  {
   "cell_type": "code",
   "execution_count": null,
   "id": "64152a7f",
   "metadata": {},
   "outputs": [],
   "source": [
    "# calculate effect size using cohen's d for equal group sizes\n",
    "# check here for unequal group sizes: https://toptipbio.com/cohens-d/\n",
    "# formula here: https://www.researchgate.net/figure/Formula-for-Cohens-d_fig1_286089628\n",
    "\n",
    "# calculate avg for pre and post, then find the difference between those values.\n",
    "m1 = df['Pre'].mean()\n",
    "m2 = df['Post'].mean()\n",
    "diff_in_means = m2-m1  # this number is the numerator of your cohen's d formula\n",
    "\n",
    "# calculate the sample std dev of each group and square it. add those two values together then divide by two\n",
    "m1sd_squared = df['Pre'].std() * df['Pre'].std() \n",
    "m2sd_squared = df['Post'].std() * df['Post'].std()\n",
    "sum_squares = m1sd_squared + m2sd_squared\n",
    "div_by_2 = sum_squares / 2\n",
    "\n",
    "# lastly, take the radical of your resulting number above\n",
    "bottom_half_cohens_d_formula = np.sqrt(div_by_2)  # this number is the denominator of your cohen's d formula\n",
    "\n",
    "cohens_d = diff_in_means / bottom_half_cohens_d_formula \n",
    "\n",
    "print(cohens_d)"
   ]
  },
  {
   "cell_type": "markdown",
   "id": "7b1cb809",
   "metadata": {},
   "source": [
    "# Power: \n",
    "Power is the probability that the test correctly rejects the Null Hypothesis if the Alternative Hypothesis is true. The standard for this value is about 0.8, but you can tweak depending on your problem and the desired power level. A value of 0.8 would indicate we want 80% probability that the test will return an accurate rejection of the null hypothesis.\n",
    "\n",
    "# Alpha: \n",
    "Desired significance level\n",
    "\n",
    "# Ratio: \n",
    "Ratio is of the number of observations in sample 2 relative to sample 1. The default for ratio is 1 (equal ratio of obervations in each sample, which we assume below). To solve for ration given the other arguments it has to be explicitly set to None."
   ]
  },
  {
   "cell_type": "code",
   "execution_count": null,
   "id": "67cb2a5b",
   "metadata": {},
   "outputs": [],
   "source": [
    "# https://www.statsmodels.org/dev/generated/statsmodels.stats.power.NormalIndPower.solve_power.html\n",
    "# https://towardsdatascience.com/ab-testing-with-python-e5964dd66143\n",
    "# NOTE: for one sample or paired sample ttest, you'll need to use https://www.statsmodels.org/dev/generated/statsmodels.stats.power.TTestPower.html\n",
    "required_n = sms.NormalIndPower().solve_power(\n",
    "    cohens_d, \n",
    "    power=0.8, \n",
    "    ratio=1\n",
    "    )     "
   ]
  },
  {
   "cell_type": "markdown",
   "id": "452f7e48",
   "metadata": {},
   "source": [
    "# Required_N:\n",
    "Minimum number of entities from each group that need to be sampled for an effective analysis at the level of power and statistical significance we have elected."
   ]
  },
  {
   "cell_type": "code",
   "execution_count": null,
   "id": "402576cf",
   "metadata": {},
   "outputs": [],
   "source": [
    "# minimum number of entities from each group that need to be sampled for an effective analysis\n",
    "required_n = np.ceil(required_n)\n",
    "print(required_n)"
   ]
  },
  {
   "cell_type": "code",
   "execution_count": null,
   "id": "c0bfcbec",
   "metadata": {},
   "outputs": [],
   "source": [
    "# Ways to visualize power curves can be found here: https://peopleanalytics-regression-book.org/power-tests.html"
   ]
  }
 ],
 "metadata": {
  "kernelspec": {
   "display_name": "Python 3 (ipykernel)",
   "language": "python",
   "name": "python3"
  },
  "language_info": {
   "codemirror_mode": {
    "name": "ipython",
    "version": 3
   },
   "file_extension": ".py",
   "mimetype": "text/x-python",
   "name": "python",
   "nbconvert_exporter": "python",
   "pygments_lexer": "ipython3",
   "version": "3.7.15"
  }
 },
 "nbformat": 4,
 "nbformat_minor": 5
}
